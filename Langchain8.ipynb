{
  "nbformat": 4,
  "nbformat_minor": 0,
  "metadata": {
    "colab": {
      "provenance": [],
      "authorship_tag": "ABX9TyOUXiNI8WfFNcdhDW0qLEKO",
      "include_colab_link": true
    },
    "kernelspec": {
      "name": "python3",
      "display_name": "Python 3"
    },
    "language_info": {
      "name": "python"
    }
  },
  "cells": [
    {
      "cell_type": "markdown",
      "metadata": {
        "id": "view-in-github",
        "colab_type": "text"
      },
      "source": [
        "<a href=\"https://colab.research.google.com/github/Sarvagya4/LangChain/blob/main/Langchain8.ipynb\" target=\"_parent\"><img src=\"https://colab.research.google.com/assets/colab-badge.svg\" alt=\"Open In Colab\"/></a>"
      ]
    },
    {
      "cell_type": "code",
      "source": [
        "!pip install -q langchain==0.1.2\n",
        "!pip install -q langchain_experimental==0.0.49\n",
        "!pip install -q langchain-openai==0.0.2"
      ],
      "metadata": {
        "id": "XIdemGw8gyv7"
      },
      "execution_count": null,
      "outputs": []
    },
    {
      "cell_type": "code",
      "source": [
        "\n",
        "import os\n",
        "from getpass import getpass\n",
        "os.environ[\"OPENAI_API_KEY\"] = getpass(\"OpenAI API Key: \")"
      ],
      "metadata": {
        "id": "_su5q8b9g3kp"
      },
      "execution_count": null,
      "outputs": []
    },
    {
      "cell_type": "code",
      "source": [
        "from google.colab import drive\n",
        "drive.mount('/content/drive')"
      ],
      "metadata": {
        "id": "z76Ult13g5r0"
      },
      "execution_count": null,
      "outputs": []
    },
    {
      "cell_type": "code",
      "source": [
        "!pip install kaggle"
      ],
      "metadata": {
        "id": "ke3D3eBXg8mh"
      },
      "execution_count": null,
      "outputs": []
    },
    {
      "cell_type": "code",
      "source": [
        "import os\n",
        "#This directory should contain you kaggle.json file with you key\n",
        "os.environ['KAGGLE_CONFIG_DIR'] = '/content/drive/MyDrive/kaggle'"
      ],
      "metadata": {
        "id": "NXQ9uE58g-Zj"
      },
      "execution_count": null,
      "outputs": []
    },
    {
      "cell_type": "code",
      "source": [
        "!kaggle datasets download -d goyaladi/climate-insights-dataset"
      ],
      "metadata": {
        "id": "Ax2vIkB0hAby"
      },
      "execution_count": null,
      "outputs": []
    },
    {
      "cell_type": "code",
      "source": [
        "import zipfile\n",
        "\n",
        "# Define the path to your zip file\n",
        "file_path = '/content/climate-insights-dataset.zip'\n",
        "with zipfile.ZipFile(file_path, 'r') as zip_ref:\n",
        "    zip_ref.extractall('/content/drive/MyDrive/kaggle')\n"
      ],
      "metadata": {
        "id": "m58qPY4vhCzK"
      },
      "execution_count": null,
      "outputs": []
    },
    {
      "cell_type": "code",
      "source": [
        "import pandas as pd\n",
        "csv_file='/content/drive/MyDrive/kaggle/climate_change_data.csv'\n",
        "#creating the document with Pandas.\n",
        "document = pd.read_csv(csv_file)"
      ],
      "metadata": {
        "id": "GbkbNA92hFNa"
      },
      "execution_count": null,
      "outputs": []
    },
    {
      "cell_type": "code",
      "source": [
        "\n",
        "document.head(5)"
      ],
      "metadata": {
        "id": "DtdXl7RZhHf9"
      },
      "execution_count": null,
      "outputs": []
    },
    {
      "cell_type": "code",
      "source": [
        "from langchain.agents.agent_types import AgentType\n",
        "from langchain_experimental.agents.agent_toolkits import create_pandas_dataframe_agent\n",
        "\n",
        "from langchain_openai import ChatOpenAI\n",
        "from langchain_openai import OpenAI"
      ],
      "metadata": {
        "id": "MbVmTs0FhJMr"
      },
      "execution_count": null,
      "outputs": []
    },
    {
      "cell_type": "code",
      "source": [
        "sm_ds_OAI = create_pandas_dataframe_agent(\n",
        "    OpenAI(temperature=0),\n",
        "    document,\n",
        "    verbose=True\n",
        ")\n",
        ""
      ],
      "metadata": {
        "id": "JXEYwLrahLsq"
      },
      "execution_count": null,
      "outputs": []
    },
    {
      "cell_type": "code",
      "source": [
        "sm_ds_OAI.invoke(\"Analyze this data, and write a brief explanation around 100 words.\")"
      ],
      "metadata": {
        "id": "c28cyC-YhNVC"
      },
      "execution_count": null,
      "outputs": []
    },
    {
      "cell_type": "code",
      "source": [
        "\n",
        "document.info()"
      ],
      "metadata": {
        "id": "4RKv7VRThP7T"
      },
      "execution_count": null,
      "outputs": []
    },
    {
      "cell_type": "code",
      "source": [
        "sm_ds_OAI.run(\"Do you think is possible to forecast the temperature?\")\n"
      ],
      "metadata": {
        "id": "vOy2Ia40hSa6"
      },
      "execution_count": null,
      "outputs": []
    },
    {
      "cell_type": "code",
      "source": [],
      "metadata": {
        "id": "UbGX3BWjhTty"
      },
      "execution_count": null,
      "outputs": []
    }
  ]
}